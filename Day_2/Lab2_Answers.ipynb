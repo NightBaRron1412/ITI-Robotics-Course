{
 "cells": [
  {
   "cell_type": "markdown",
   "metadata": {},
   "source": [
    "## 1) Write a python code that ask the user to enter his birth year and then print his age in years."
   ]
  },
  {
   "cell_type": "code",
   "execution_count": 1,
   "metadata": {},
   "outputs": [
    {
     "name": "stdout",
     "output_type": "stream",
     "text": [
      "Please enter your birth year: 2001\n",
      "You are 21 Years Old\n"
     ]
    }
   ],
   "source": [
    "from datetime import date\n",
    "\n",
    "current_year = date.today().year\n",
    "\n",
    "birth_year = int(input(\"Please enter your birth year: \"))\n",
    "\n",
    "print(f\"You are {current_year - birth_year} Years Old\")"
   ]
  },
  {
   "cell_type": "markdown",
   "metadata": {},
   "source": [
    "## 2) Write a python code to find Sum and Average of N Natural Numbers"
   ]
  },
  {
   "cell_type": "code",
   "execution_count": 2,
   "metadata": {},
   "outputs": [
    {
     "name": "stdout",
     "output_type": "stream",
     "text": [
      "Please Enter any Number: 50\n",
      "The Sum of Natural Numbers from 1 to 50 = 1275\n",
      "Average of Natural Numbers from 1 to 50 = 25.5\n"
     ]
    }
   ],
   "source": [
    "n = int(input(\"Please Enter any Number: \"))\n",
    "\n",
    "_sum = 0\n",
    "avg = 0\n",
    "\n",
    "for i in range(1, n + 1):\n",
    "    _sum += i\n",
    "    \n",
    "avg = _sum / n\n",
    "\n",
    "print(f\"The Sum of Natural Numbers from 1 to 50 = {_sum}\")\n",
    "print(f\"Average of Natural Numbers from 1 to 50 = {avg}\")"
   ]
  },
  {
   "cell_type": "markdown",
   "metadata": {},
   "source": [
    "## 3) Python Program to Check Even or Odd"
   ]
  },
  {
   "cell_type": "code",
   "execution_count": 3,
   "metadata": {},
   "outputs": [
    {
     "name": "stdout",
     "output_type": "stream",
     "text": [
      "Enter 'q' to exit.\n",
      "\n",
      "Enter Any number: 4\n",
      "4 is an even number.\n",
      "\n",
      "Enter Any number: q\n"
     ]
    }
   ],
   "source": [
    "print(\"Enter 'q' to exit.\\n\")\n",
    "user_input = None\n",
    "\n",
    "while True:\n",
    "    user_input = input(\"Enter Any number: \")\n",
    "    \n",
    "    if (user_input.lower() == \"q\"):\n",
    "        break\n",
    "        \n",
    "    else:\n",
    "        user_input = int(user_input)\n",
    "        \n",
    "        if (user_input % 2 == 0):\n",
    "            print(f\"{user_input} is an even number.\\n\")\n",
    "            \n",
    "        else:\n",
    "            print(f\"{user_input} is a odd number.\\n\")"
   ]
  },
  {
   "cell_type": "markdown",
   "metadata": {},
   "source": [
    "## 4) https://www.hackerrank.com/challenges/whats-your-name/problem"
   ]
  },
  {
   "cell_type": "code",
   "execution_count": 4,
   "metadata": {},
   "outputs": [
    {
     "name": "stdout",
     "output_type": "stream",
     "text": [
      "Amir\n",
      "Shetaia\n",
      "Hello Amir Shetaia! You just delved into python.\n"
     ]
    }
   ],
   "source": [
    "#\n",
    "# Complete the 'print_full_name' function below.\n",
    "#\n",
    "# The function is expected to return a STRING.\n",
    "# The function accepts following parameters:\n",
    "#  1. STRING first\n",
    "#  2. STRING last\n",
    "#\n",
    "\n",
    "def print_full_name(first, last):\n",
    "    # Write your code here\n",
    "    print(f\"Hello {first} {last}! You just delved into python.\")\n",
    "\n",
    "if __name__ == '__main__':\n",
    "    first_name = input()\n",
    "    last_name = input()\n",
    "    print_full_name(first_name, last_name)"
   ]
  },
  {
   "cell_type": "markdown",
   "metadata": {},
   "source": [
    "## 5) https://www.hackerrank.com/challenges/python-string-split-and-join/problem"
   ]
  },
  {
   "cell_type": "code",
   "execution_count": 5,
   "metadata": {},
   "outputs": [
    {
     "name": "stdout",
     "output_type": "stream",
     "text": [
      "I love ITI\n",
      "I-love-ITI\n"
     ]
    }
   ],
   "source": [
    "def split_and_join(line):\n",
    "    # write your code here\n",
    "    line = line.split(\" \")\n",
    "    line = \"-\".join(line)\n",
    "    \n",
    "    return line\n",
    "\n",
    "if __name__ == '__main__':\n",
    "    line = input()\n",
    "    result = split_and_join(line)\n",
    "    print(result)"
   ]
  },
  {
   "cell_type": "markdown",
   "metadata": {},
   "source": [
    "## 6) https://www.hackerrank.com/challenges/swap-case/problem"
   ]
  },
  {
   "cell_type": "code",
   "execution_count": 6,
   "metadata": {},
   "outputs": [
    {
     "name": "stdout",
     "output_type": "stream",
     "text": [
      "This is the Day 2 of this RoBoTiCs Course!!\n",
      "tHIS IS THE dAY 2 OF THIS rObOtIcS cOURSE!!\n"
     ]
    }
   ],
   "source": [
    "def swap_case(s):\n",
    "    \n",
    "    s_list = []\n",
    "    \n",
    "    for char in s:\n",
    "        if (char.isupper()):\n",
    "            s_list.append(char.lower())\n",
    "            \n",
    "        elif (char.islower()):\n",
    "            s_list.append(char.upper())\n",
    "            \n",
    "        else:\n",
    "            s_list.append(char)\n",
    "            \n",
    "    s = \"\".join(s_list) \n",
    "\n",
    "    return s\n",
    "\n",
    "if __name__ == '__main__':\n",
    "    s = input()\n",
    "    result = swap_case(s)\n",
    "    print(result)"
   ]
  },
  {
   "cell_type": "markdown",
   "metadata": {},
   "source": [
    "## 7) Implement a code that takes as an input ASCII code for some characters and combine them to form a string."
   ]
  },
  {
   "cell_type": "code",
   "execution_count": 8,
   "metadata": {},
   "outputs": [
    {
     "name": "stdout",
     "output_type": "stream",
     "text": [
      "Enter 'q' to stop.\n",
      "\n",
      "Enter the ASCII for the characters: 65\n",
      "Enter the ASCII for the characters: 109\n",
      "Enter the ASCII for the characters: 105\n",
      "Enter the ASCII for the characters: 114\n",
      "Enter the ASCII for the characters: q\n",
      "\n",
      "The result string is: Amir\n"
     ]
    }
   ],
   "source": [
    "print(\"Enter 'q' to stop.\\n\")\n",
    "str_list = []\n",
    "\n",
    "while True:\n",
    "    #here implement a code that does the specified function\n",
    "    char = input(\"Enter the ASCII for the characters: \")\n",
    "    \n",
    "    if (char == 'q'):\n",
    "        break\n",
    "        \n",
    "    else:\n",
    "        char = chr(int(char))\n",
    "        str_list.append(char)\n",
    "        \n",
    "_str = \"\".join(str_list)        \n",
    "print(f\"\\nThe result string is: {_str}\")"
   ]
  },
  {
   "cell_type": "code",
   "execution_count": null,
   "metadata": {},
   "outputs": [],
   "source": []
  }
 ],
 "metadata": {
  "kernelspec": {
   "display_name": "Python 3",
   "language": "python",
   "name": "python3"
  },
  "language_info": {
   "codemirror_mode": {
    "name": "ipython",
    "version": 3
   },
   "file_extension": ".py",
   "mimetype": "text/x-python",
   "name": "python",
   "nbconvert_exporter": "python",
   "pygments_lexer": "ipython3",
   "version": "3.7.3"
  }
 },
 "nbformat": 4,
 "nbformat_minor": 2
}
