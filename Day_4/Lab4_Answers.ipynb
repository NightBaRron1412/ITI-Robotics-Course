{
 "cells": [
  {
   "cell_type": "markdown",
   "metadata": {},
   "source": [
    "## Q1) Write a program to check whether given number is prime or not. ."
   ]
  },
  {
   "cell_type": "code",
   "execution_count": 1,
   "metadata": {},
   "outputs": [
    {
     "name": "stdout",
     "output_type": "stream",
     "text": [
      "Enter a number: 7\n",
      "7 is prime.\n"
     ]
    }
   ],
   "source": [
    "from math import sqrt\n",
    "\n",
    "num_input = int(input(\"Enter a number: \"))\n",
    "prime = True\n",
    "\n",
    "for num in range(2, int(sqrt(num_input))+1):\n",
    "    if num_input % num == 0:\n",
    "        print(num_input, \"is not prime.\")\n",
    "        prime = False\n",
    "        break\n",
    "if (prime == True):\n",
    "    print(num_input, \"is prime.\")"
   ]
  },
  {
   "cell_type": "markdown",
   "metadata": {},
   "source": [
    "## Q2) Write a program to print prime numbers in a given range. Ex: [5,70]"
   ]
  },
  {
   "cell_type": "code",
   "execution_count": 2,
   "metadata": {},
   "outputs": [
    {
     "name": "stdout",
     "output_type": "stream",
     "text": [
      "Enter start value: 5\n",
      "Enter end value: 70\n",
      "5\n",
      "7\n",
      "11\n",
      "13\n",
      "17\n",
      "19\n",
      "23\n",
      "29\n",
      "31\n",
      "37\n",
      "41\n",
      "43\n",
      "47\n",
      "53\n",
      "59\n",
      "61\n",
      "67\n"
     ]
    }
   ],
   "source": [
    "from math import sqrt\n",
    "\n",
    "def is_prime(n):\n",
    "    for num in range(2, int(sqrt(n))+1):\n",
    "        if n % num == 0:\n",
    "            return False\n",
    "            break\n",
    "        \n",
    "    return True\n",
    "\n",
    "start = int(input(\"Enter start value: \"))\n",
    "end   = int(input(\"Enter end value: \"))\n",
    "\n",
    "for num in [n for n in range(start, end + 1) if (is_prime(n) == True)]:\n",
    "    print(num)"
   ]
  },
  {
   "cell_type": "markdown",
   "metadata": {},
   "source": [
    "## Q3) Write a program to calculate average value of a given list. Ex: lst = [2,10,45,7,9] -> 14.6"
   ]
  },
  {
   "cell_type": "code",
   "execution_count": 3,
   "metadata": {},
   "outputs": [
    {
     "name": "stdout",
     "output_type": "stream",
     "text": [
      "Enter you list items separated by spaces: 2 10 45 7 9\n",
      "\n",
      "The average of your list items is 14.6\n"
     ]
    }
   ],
   "source": [
    "list_input = [int(n) for n in input(\"Enter you list items separated by spaces: \").split()]\n",
    "\n",
    "print(\"\\nThe average of your list items is\", sum(list_input) / len(list_input))"
   ]
  },
  {
   "cell_type": "markdown",
   "metadata": {},
   "source": [
    "## Q4) Write a program to calculate the power without using POW function (using a for loop)."
   ]
  },
  {
   "cell_type": "code",
   "execution_count": 4,
   "metadata": {},
   "outputs": [
    {
     "name": "stdout",
     "output_type": "stream",
     "text": [
      "Enter base value: 6\n",
      "Enter power value: 2\n",
      "\n",
      "The result is 36\n"
     ]
    }
   ],
   "source": [
    "base  = int(input(\"Enter base value: \"))\n",
    "power = int(input(\"Enter power value: \"))\n",
    "\n",
    "for _ in range(power - 1):\n",
    "    base = base * base\n",
    "    \n",
    "print(\"\\nThe result is\", base)"
   ]
  },
  {
   "cell_type": "markdown",
   "metadata": {},
   "source": [
    "## Q5) Write a program to check whether a number is binary or not."
   ]
  },
  {
   "cell_type": "code",
   "execution_count": 5,
   "metadata": {},
   "outputs": [
    {
     "name": "stdout",
     "output_type": "stream",
     "text": [
      "Enter a binary number: 01010110001101010\n",
      "01010110001101010 is binary\n"
     ]
    }
   ],
   "source": [
    "num_input = input(\"Enter a binary number: \")\n",
    "binary = True\n",
    "for digit in num_input:\n",
    "    if digit not in \"10\":\n",
    "        print(num_input, \"is not binary\")\n",
    "        binary = False\n",
    "        break\n",
    "\n",
    "if (binary == True):\n",
    "    print(num_input, \"is binary\")"
   ]
  },
  {
   "cell_type": "markdown",
   "metadata": {},
   "source": [
    "## Q6) Write a program to remove given character from a string. Ex: ‘c’"
   ]
  },
  {
   "cell_type": "code",
   "execution_count": 6,
   "metadata": {},
   "outputs": [
    {
     "name": "stdout",
     "output_type": "stream",
     "text": [
      "Enter a string: Calculate\n",
      "Enter a char to remove: c\n",
      "alulate\n"
     ]
    }
   ],
   "source": [
    "string_input = input(\"Enter a string: \")\n",
    "char_input   = input(\"Enter a char to remove: \")\n",
    "\n",
    "print(\"\".join([char for char in string_input if char.lower() != char_input.lower()]))"
   ]
  },
  {
   "cell_type": "markdown",
   "metadata": {},
   "source": [
    "## Q7) Write a program to count the number of vowels in a given string."
   ]
  },
  {
   "cell_type": "code",
   "execution_count": 8,
   "metadata": {},
   "outputs": [
    {
     "name": "stdout",
     "output_type": "stream",
     "text": [
      "Enter a string: Orange\n",
      "\"Orange\" contains 3 vowels\n"
     ]
    }
   ],
   "source": [
    "string_input = input(\"Enter a string: \")\n",
    "counter = 0\n",
    "\n",
    "for char in string_input.lower():\n",
    "    if char in \"aeiou\":\n",
    "        counter += 1\n",
    "        \n",
    "print(f'\"{string_input}\" contains {counter} vowels')"
   ]
  },
  {
   "cell_type": "markdown",
   "metadata": {},
   "source": [
    "## Q8) Write a program to get the second highest number in an array of integers."
   ]
  },
  {
   "cell_type": "code",
   "execution_count": 10,
   "metadata": {},
   "outputs": [
    {
     "name": "stdout",
     "output_type": "stream",
     "text": [
      "Enter you array integers separated by spaces: 1 53 67 47 23 7 3 75 3 85 30\n",
      "The second highest number in the entered array is 75\n"
     ]
    }
   ],
   "source": [
    "arr_input = [int(n) for n in input(\"Enter you array integers separated by spaces: \").split()]\n",
    "\n",
    "print(\"The second highest number in the entered array is\", sorted(set(arr_input))[-2])"
   ]
  },
  {
   "cell_type": "markdown",
   "metadata": {},
   "source": [
    "## Q9) Write a program to get unique characters in a string."
   ]
  },
  {
   "cell_type": "code",
   "execution_count": 11,
   "metadata": {},
   "outputs": [
    {
     "name": "stdout",
     "output_type": "stream",
     "text": [
      "Enter a string: ITI Robotics Course\n",
      "\n",
      "The unique characters in the entered string are:\n",
      "b\n",
      "u\n",
      "e\n"
     ]
    }
   ],
   "source": [
    "string_input = input(\"Enter a string: \")\n",
    "print(\"\\nThe unique characters in the entered string are:\")\n",
    "for char in string_input:\n",
    "    if (string_input.lower().count(char) == 1 and char != \" \"):\n",
    "        print(char)"
   ]
  },
  {
   "cell_type": "markdown",
   "metadata": {},
   "source": [
    "## Q10) Write to program to find the highest frequency element in a list using a for loop. Ex: Lst = [1,2,2,2,3,3,4,5,7] -> 2"
   ]
  },
  {
   "cell_type": "code",
   "execution_count": 12,
   "metadata": {},
   "outputs": [
    {
     "name": "stdout",
     "output_type": "stream",
     "text": [
      "Enter you list items separated by spaces: 1 2 2 2 3 3 4 5 7\n",
      "\n",
      "The highest frequency element in the list is 2\n"
     ]
    }
   ],
   "source": [
    "list_input = [int(n) for n in input(\"Enter you list items separated by spaces: \").split()]\n",
    "\n",
    "occurrence = [list_input.count(i) for i in list_input]\n",
    "\n",
    "highest_freq = list_input[occurrence.index(max(occurrence))]\n",
    "\n",
    "print(\"\\nThe highest frequency element in the list is\", highest_freq)"
   ]
  }
 ],
 "metadata": {
  "kernelspec": {
   "display_name": "Python 3",
   "language": "python",
   "name": "python3"
  },
  "language_info": {
   "codemirror_mode": {
    "name": "ipython",
    "version": 3
   },
   "file_extension": ".py",
   "mimetype": "text/x-python",
   "name": "python",
   "nbconvert_exporter": "python",
   "pygments_lexer": "ipython3",
   "version": "3.7.3"
  }
 },
 "nbformat": 4,
 "nbformat_minor": 2
}
